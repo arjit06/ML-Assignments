{
  "cells": [
    {
      "cell_type": "markdown",
      "metadata": {},
      "source": [
        "IMPORT LIBRARIES"
      ]
    },
    {
      "cell_type": "code",
      "execution_count": 3,
      "metadata": {
        "id": "4bgJbwBcZ8bi"
      },
      "outputs": [],
      "source": [
        "from sklearn.mixture import GaussianMixture\n",
        "from sklearn.model_selection import train_test_split\n",
        "from IPython.display import Audio\n",
        "from collections import Counter\n",
        "from sklearn.preprocessing import LabelEncoder, StandardScaler, MinMaxScaler\n",
        "from sklearn.decomposition import PCA\n",
        "from scipy.stats import skew,kurtosis\n",
        "import pandas as pd\n",
        "import numpy as np\n",
        "import librosa\n",
        "import os\n",
        "\n",
        "\n",
        "#auto correlation function at lag k\n",
        "\n",
        "#it extracts the relationship between past and future data in a time series : about 10 autocorrelations are usually valuable\n",
        "def calculate_auto_corr(time_series_signal,k):\n",
        "    series_mean=np.mean(time_series_signal)\n",
        "\n",
        "    l=len(time_series_signal)\n",
        "\n",
        "    autocorrelation_num=np.sum((time_series_signal[:l-k]-series_mean)*(time_series_signal[k:]-series_mean))\n",
        "    autocorrelation_den=np.sum((time_series_signal-series_mean)**2)\n",
        "\n",
        "    return autocorrelation_num/(autocorrelation_den+1e6)"
      ]
    },
    {
      "cell_type": "markdown",
      "metadata": {},
      "source": [
        "TO DO "
      ]
    },
    {
      "cell_type": "code",
      "execution_count": null,
      "metadata": {},
      "outputs": [],
      "source": [
        "# change n_components to 30 each                           (decreases 8%)-------- optimal at n=2 (26%)\n",
        "# upsampling,downsampling                                  (decreases 1%)   \n",
        "# try cross-validation                                     (+1-4% extra in cross validations)\n",
        "# add features (spectral centroid etc)                     (29% accuracy now)\n",
        "# apply PCA or other stats (variance, median,iqr)               47.6%  \n",
        "# normalization                                                 bane (decreases) 2-3%\n",
        "# also check :- autocorrelation* ,fft  (kurtosis,skew)      ~60%\n",
        "\n",
        "# add PLP, LPCC features                            \n",
        "# weighted model (ensemble)                        \n",
        "# remove background noise in some way  (band pass filter) "
      ]
    },
    {
      "cell_type": "markdown",
      "metadata": {},
      "source": [
        "OBSERVATIONS"
      ]
    },
    {
      "cell_type": "code",
      "execution_count": null,
      "metadata": {},
      "outputs": [],
      "source": [
        "# 13 mel mean, (chroma, zcr, spec_bw, spectral cent, rolloff) means -      26%  [18 features] - 16min\n",
        "# 13 mel mean,var                             (\" \"  \"  \" ~ 5) means -      39%  [31 features] - 16min\n",
        "# 13 mel mean,var      (zcr, spec_bw, spectral cent, rolloff) means -      40%  [30 features] - 20min\n",
        "# 13 mel mean,var,pca  (zcr, spec_bw, spectral cent, rolloff) means -      42%  [30 features] - 23min\n",
        "# 13 mel mean,median,var,pca  (\" \" \" \" ~ $\")                  means -      44%  [56 features] - 16min\n",
        "# -------------------------------------------------------------------------------------------------- \n",
        "# 13 mel mean,var,median        (\" \"  \"  \" ~  5) var, median, means -      47.8%  [55 features] - 42min\n",
        "# 13 mel mean,var,median,pca    (\" \"  \"  \" ~  4) var, median, means -          %  [64 features] -   min (do at the end to boost by 2-3%)\n",
        "# 13 mel mean,var,med,autocorr,pca,iq(\" \"  \"  \" ~  4) var, median, means-    54%  [90 features] - 19min\n",
        "# 13 mel mean,var,med,pca,iq + (15X13autocorr) + (\" \"  \"  \" ~  4) \"\"  ~3-    65%  [272 features]- 40+9 min\n",
        "# 13 mel mean,var,med,pca,iq, + (15X13autocorr)+ (13ffts(44mean)) + (\" \"  \"  \" ~  4) \"\"-  64%  [285 features]- 30+9 min\n",
        "\n",
        "\n",
        "# 13 mel mean,var,med,pca,iq,skew,kurtosis + (15X13autocorr) + (\" \"  \"  \" ~  4) \"\"    -  66%  [311 features]-  min\n",
        "# use min-max scaler on the best accuracy - 64% :(         "
      ]
    },
    {
      "cell_type": "markdown",
      "metadata": {},
      "source": [
        "PROPERTIES"
      ]
    },
    {
      "cell_type": "code",
      "execution_count": null,
      "metadata": {},
      "outputs": [],
      "source": [
        "# MEL features - They represent the short-term power spectrum of a sound signal of the audio signal in a way that is more aligned with human auditory perception.          If a cepstral coefficient has a positive value, the majority of the spectral energy is concentrated in the low-frequency regions. On the other hand, if a cepstral coefficient has a negative value, it represents that most of the spectral energy is concentrated at high frequencies.\n",
        "# spectral centroid - center of mass of spectrum (brightness of sound)\n",
        "# spectral rolloff - frequency below which a specified percentage of the total spectral energy lies  (also provides info about center)\n",
        "# spectral bandwidth -information about how spread out the frequencies are\n",
        "# zcr - the number of times the signal crosses zero per unit of time. (noisiness of signal)\n",
        "# Autocorrelation - It extracts the relationship between past and future data in a time series : about 10 autocorrelations are usually valuable\n",
        "# FFT -  convert time domain to frequency domain"
      ]
    },
    {
      "cell_type": "markdown",
      "metadata": {
        "id": "1P5AtNUFaEMT"
      },
      "source": [
        "FEATURE EXTRACTION"
      ]
    },
    {
      "cell_type": "code",
      "execution_count": 9,
      "metadata": {},
      "outputs": [],
      "source": [
        "def extract_MFCC_features(file_path):\n",
        "    audio,sr= librosa.load(file_path)        \n",
        "    mfcc_features=librosa.feature.mfcc(y=audio,sr=sr,n_mfcc=13)\n",
        "    auto_list=[]    # List to store the autocorrelation features\n",
        "    four_list=[]\n",
        "    \n",
        "    \n",
        "    # spectral features\n",
        "    zcr = librosa.feature.zero_crossing_rate(audio)\n",
        "    spec_bw = librosa.feature.spectral_bandwidth(y=audio, sr=sr)\n",
        "    spec_cent = librosa.feature.spectral_centroid(y=audio, sr=sr)\n",
        "    rolloff = librosa.feature.spectral_rolloff(y=audio, sr=sr)\n",
        "    \n",
        "    \n",
        "    pca=PCA(n_components=1)\n",
        "\n",
        "\n",
        "    # statistical features\n",
        "    mean_per_feature=np.mean(mfcc_features,axis=1).tolist()\n",
        "    var_per_feature=np.var(mfcc_features,axis=1).tolist()\n",
        "    median_per_feature=np.median(mfcc_features,axis=1).tolist()\n",
        "    mfcc_pca=pca.fit_transform(mfcc_features).flatten().tolist()\n",
        "    iqr_per_feature=(np.percentile(mfcc_features,75,axis=1)-np.percentile(mfcc_features,25,axis=1)).tolist() #inter-quartile percentile\n",
        "    skew_per_feature=skew(mfcc_features,axis=1).tolist()\n",
        "    kurtosis_per_feature=kurtosis(mfcc_features,axis=1).tolist()\n",
        "    \n",
        "    # Extracting 15 autocorrelation coefficients for each mel feature \n",
        "    for a in mfcc_features:\n",
        "        for i in range (1,16):\n",
        "            curr_lag=calculate_auto_corr(a,i)\n",
        "            auto_list.append(curr_lag)\n",
        "    \n",
        "    # Extracting 13 Fourier features (a mean of 44 for each mel feature)\n",
        "    for a in mfcc_features:\n",
        "        curr_fft=np.abs(np.fft.fft(a)).tolist()\n",
        "        four_list.append(np.mean(curr_fft))\n",
        "    \n",
        "    \n",
        "    features=mean_per_feature+var_per_feature+median_per_feature+mfcc_pca+iqr_per_feature+auto_list+four_list+skew_per_feature+kurtosis_per_feature+[np.mean(spec_cent),np.mean(rolloff),np.mean(spec_bw),np.mean(zcr),np.var(spec_cent),np.var(rolloff),np.var(spec_bw),np.var(zcr),np.median(spec_cent),np.median(rolloff),np.median(spec_bw),np.median(zcr)]   # 8*13+ 15*13 +3*4= 311 features\n",
        "    return features\n",
        "\n",
        "\n",
        "\n",
        "\n",
        "labels=['bed', 'bird', 'cat', 'dog', 'down', 'eight', 'five', 'four', 'go', 'happy', 'house', 'left', 'marvin', 'nine', 'no', 'off', 'on', 'one', 'right', 'seven', 'sheila', 'six', 'stop', 'three', 'tree', 'two', 'up', 'wow', 'yes', 'zero']\n",
        "class_to_label={'right': 0, 'eight': 1, 'cat': 2, 'tree': 3, 'bed': 4, 'happy': 5, 'go': 6, 'dog': 7, 'no': 8, 'wow':9, 'nine': 10, 'left': 11, 'stop': 12, 'three': 13, 'sheila': 14, 'one': 15, 'bird': 16, 'zero': 17, 'seven': 18, 'up': 19,'marvin': 20, 'two': 21, 'house': 22, 'down': 23, 'six': 24, 'yes': 25, 'on': 26, 'five': 27, 'off': 28, 'four': 29}\n",
        "label_to_class={0: 'right', 1: 'eight', 2: 'cat', 3: 'tree', 4: 'bed', 5: 'happy', 6: 'go', 7: 'dog', 8: 'no', 9: 'wow', 10: 'nine', 11: 'left', 12: 'stop', 13: 'three', 14: 'sheila', 15: 'one', 16: 'bird', 17: 'zero', 18: 'seven', 19: 'up', 20: 'marvin', 21: 'two', 22: 'house', 23: 'down', 24: 'six', 25: 'yes', 26: 'on', 27: 'five', 28: 'off', 29: 'four'}\n",
        "alpha_order_to_label_order={}\n",
        "\n",
        "# Mapping\n",
        "for a in range(0,len(labels)): \n",
        "    alpha_order_to_label_order[a]=class_to_label[labels[a]]\n"
      ]
    },
    {
      "cell_type": "code",
      "execution_count": 2,
      "metadata": {
        "id": "tS7XbIbbGkI9"
      },
      "outputs": [
        {
          "name": "stdout",
          "output_type": "stream",
          "text": [
            "10000\n",
            "20000\n",
            "30000\n",
            "40000\n",
            "50000\n"
          ]
        }
      ],
      "source": [
        "# Function to extract features from audio files (submission20.csv)\n",
        "#  20-25min\n",
        "source_folder=\"SpeechCommand_Copy/\"\n",
        "\n",
        "X_train_per_class=[]\n",
        "y_train_per_class=[]\n",
        "desired_examples_per_class=2178\n",
        "scaler=MinMaxScaler(feature_range=(0,1))\n",
        "cnt=0\n",
        "i=0\n",
        "for class_folder in os.listdir(source_folder):\n",
        "    if class_folder==\"_background_noise_\": continue\n",
        "    \n",
        "    curr_class_path=os.path.join(source_folder,class_folder)\n",
        "    curr_class_audio_paths=os.listdir(curr_class_path)\n",
        "\n",
        "    \n",
        "    X_train_per_class.append([])\n",
        "    labels.append(class_folder)\n",
        "\n",
        "    for audio_path in curr_class_audio_paths:\n",
        "        f=extract_MFCC_features(os.path.join(curr_class_path,audio_path))\n",
        "        X_train_per_class[i].append(f)\n",
        "        cnt+=1\n",
        "        \n",
        "        if (cnt%10000==0): print(cnt)\n",
        "    \n",
        "    \n",
        "    # X_train_per_class[i]=scaler.fit_transform(X_train_per_class[i])\n",
        "    i+=1"
      ]
    },
    {
      "cell_type": "markdown",
      "metadata": {
        "id": "aStDueVygPQl"
      },
      "source": [
        "TRAIN GMMs and do mapping"
      ]
    },
    {
      "cell_type": "code",
      "execution_count": 4,
      "metadata": {
        "id": "aYikfa_3gQBs"
      },
      "outputs": [],
      "source": [
        "# Train a Gaussian Mixture Model\n",
        "gmms=[]\n",
        "for i in range(0,30): # class 0 is bed in X_TRAIN\n",
        "    gmm=GaussianMixture(n_components=2)\n",
        "    gmm.fit(X_train_per_class[i])\n",
        "    gmms.append(gmm)"
      ]
    },
    {
      "cell_type": "markdown",
      "metadata": {
        "id": "vJ0FcT4WsLij"
      },
      "source": [
        "MAKE PREDICTIONS"
      ]
    },
    {
      "cell_type": "code",
      "execution_count": 12,
      "metadata": {
        "id": "0UMofmbbh_XV"
      },
      "outputs": [],
      "source": [
        "# 2min\n",
        "test_source_folder=\"SpeechCommandTest/\"\n",
        "test_csv_input=\"test.csv\"\n",
        "output_file_name=\"submissions.csv\"\n",
        "X_test=[]\n",
        "\n",
        "\n",
        "\n",
        "# for each id in test.csv_input see the path and use it to extract audio from kaggle drive link\n",
        "# Then open that file and extract features and put in X_test\n",
        "# make predictions and update in test.csv_output\n",
        "\n",
        "df2=pd.read_csv(test_csv_input)\n",
        "for id, row in df2.iterrows():\n",
        "    audio_path=os.path.join(test_source_folder,row[\"AUDIO_FILE\"])\n",
        "    X_test.append(extract_MFCC_features(audio_path))\n",
        "X_test=np.array(X_test)\n",
        "# X_test=scaler.fit_transform(X_test)\n",
        "\n",
        "\n",
        "\n",
        "# Predict labels on the test set\n",
        "y_pred=[]\n",
        "for a in X_test:\n",
        "    likelihoods_per_class=[gmm.score(a.reshape(1,-1)) for gmm in gmms]\n",
        "    predicted_class=np.argmax(likelihoods_per_class)\n",
        "    y_pred.append(alpha_order_to_label_order[predicted_class])\n",
        "y_pred=np.array(y_pred)\n",
        "     \n",
        "\n",
        "\n",
        "output_list=[]\n",
        "for i, row in df2.iterrows():\n",
        "    curr_id=row[\"ID\"]\n",
        "    prediction=y_pred[i]\n",
        "    output_list.append([curr_id,prediction])\n",
        "output_df=pd.DataFrame(output_list, columns=['ID', 'TARGET'])\n",
        "\n",
        "\n",
        "\n",
        "\n",
        "# Write the DataFrame to a new CSV file\n",
        "counter=1  \n",
        "while True:\n",
        "    output_file_name=f\"submissions/submissions_{counter}.csv\"\n",
        "    try:\n",
        "        with open(output_file_name, \"r\"):\n",
        "            counter += 1\n",
        "            \n",
        "    except FileNotFoundError:\n",
        "        output_df.to_csv(output_file_name, index=False)\n",
        "        break\n",
        "output_df.to_csv(output_file_name, index=False)"
      ]
    },
    {
      "cell_type": "markdown",
      "metadata": {},
      "source": [
        "<br><br><br>\n",
        "CROSS VALIDATION"
      ]
    },
    {
      "cell_type": "code",
      "execution_count": 3,
      "metadata": {},
      "outputs": [
        {
          "name": "stdout",
          "output_type": "stream",
          "text": [
            "Accuracy= 71.62301860785665\n"
          ]
        }
      ],
      "source": [
        "# 1min\n",
        "y_train_per_class=[]\n",
        "\n",
        "# TRAIN test split\n",
        "X_train_per_class_validated=[]\n",
        "X_test_validated=[]\n",
        "y_test_validated=[]\n",
        "\n",
        "for i in range(0,30): # class 0 is bed in X_TRAIN\n",
        "    y_train_per_class.append([])\n",
        "    y_train_per_class[i]=[alpha_order_to_label_order[i]]*len(X_train_per_class[i])\n",
        "    X_train_split, X_test_split,Y_train_split,Y_test_split =train_test_split(X_train_per_class[i],y_train_per_class[i], test_size=0.2, random_state=i)\n",
        "\n",
        "    X_train_per_class_validated.append(X_train_split)\n",
        "    X_test_validated+=X_test_split\n",
        "    y_test_validated+=[alpha_order_to_label_order[i]]*len(X_test_split)\n",
        "    \n",
        "X_test_validated=np.array(X_test_validated)\n",
        "\n",
        "    \n",
        "    \n",
        "    \n",
        "# Train 30 Gaussian Mixture Models\n",
        "gmms=[]\n",
        "for i in range(0,30): # class 0 is bed in X_TRAIN\n",
        "    gmm=GaussianMixture(n_components=2)\n",
        "    gmm.fit(np.array(X_train_per_class_validated[i]))\n",
        "    gmms.append(gmm)\n",
        "    \n",
        "    \n",
        "    \n",
        "\n",
        "# Predict labels on the test set\n",
        "y_pred=[]\n",
        "for a in X_test_validated:\n",
        "    likelihoods_per_class=[gmm.score(a.reshape(1,-1)) for gmm in gmms]\n",
        "    predicted_class=np.argmax(likelihoods_per_class)\n",
        "    y_pred.append(alpha_order_to_label_order[predicted_class])\n",
        "y_pred=np.array(y_pred)\n",
        "     \n",
        "     \n",
        "accuracy_score=0\n",
        "correct=0\n",
        "total=len(X_test_validated)\n",
        "for a in range(0,len(y_pred)):\n",
        "    if (y_pred[a]==y_test_validated[a]):\n",
        "        correct+=1\n",
        "print(f\"Accuracy= {(correct/total)*100}\")"
      ]
    },
    {
      "cell_type": "markdown",
      "metadata": {},
      "source": [
        "<br><br><br> PICKLING AND TESTING SCRIPT"
      ]
    },
    {
      "cell_type": "code",
      "execution_count": 1,
      "metadata": {},
      "outputs": [],
      "source": [
        "import pickle                               # works only for generating csv file \n",
        "\n",
        "# Save GMM models to a pickle file\n",
        "# with open('gmm_models.pkl', 'wb') as file:\n",
        "#     pickle.dump(gmms, file)\n",
        "    \n",
        "# save X_train data\n",
        "# with open('train.pkl', 'wb') as file:\n",
        "#     pickle.dump(X_train_per_class, file)"
      ]
    },
    {
      "cell_type": "code",
      "execution_count": 11,
      "metadata": {},
      "outputs": [
        {
          "name": "stdout",
          "output_type": "stream",
          "text": [
            "[15]\n"
          ]
        }
      ],
      "source": [
        "with open('2021452/gmm_models.pkl', 'rb') as file:\n",
        "    gmms = pickle.load(file)\n",
        "    l=[\"SpeechCommandTest/A_3534412c675c_nohash_0.wav\"]\n",
        "    preds=[]\n",
        "    for audio_path in l:\n",
        "        audio,sr=librosa.load(audio_path)\n",
        "        # Audio(data=audio, rate=sr) \n",
        "        feature=np.array(extract_MFCC_features(audio_path))\n",
        "        \n",
        "        \n",
        "        likelihoods_per_class=[gmm.score(feature.reshape(1,-1)) for gmm in gmms]\n",
        "        predicted_class=np.argmax(likelihoods_per_class)\n",
        "        predicted_class=alpha_order_to_label_order[predicted_class]\n",
        "        # print(predicted_class)\n",
        "        # print(label_to_class[predicted_class])\n",
        "        preds.append(predicted_class)\n",
        "    print(preds)\n",
        "   "
      ]
    },
    {
      "cell_type": "markdown",
      "metadata": {},
      "source": [
        "TESTING PREDICTIONS BY AUDIO"
      ]
    },
    {
      "cell_type": "code",
      "execution_count": 22,
      "metadata": {},
      "outputs": [
        {
          "data": {
            "text/html": [
              "\n",
              "                <audio  controls=\"controls\" >\n",
              "                    <source src=\"data:audio/wav;base64,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\" type=\"audio/wav\" />\n",
              "                    Your browser does not support the audio element.\n",
              "                </audio>\n",
              "              "
            ],
            "text/plain": [
              "<IPython.lib.display.Audio object>"
            ]
          },
          "execution_count": 22,
          "metadata": {},
          "output_type": "execute_result"
        }
      ],
      "source": [
        "file=\"SpeechCommandTest/A_3534412c675c_nohash_0.wav\"\n",
        "audio,sr= librosa.load(file)\n",
        "Audio(data=audio, rate=sr) "
      ]
    }
  ],
  "metadata": {
    "colab": {
      "provenance": []
    },
    "kernelspec": {
      "display_name": "Python 3",
      "name": "python3"
    },
    "language_info": {
      "codemirror_mode": {
        "name": "ipython",
        "version": 3
      },
      "file_extension": ".py",
      "mimetype": "text/x-python",
      "name": "python",
      "nbconvert_exporter": "python",
      "pygments_lexer": "ipython3",
      "version": "3.9.13"
    }
  },
  "nbformat": 4,
  "nbformat_minor": 0
}
